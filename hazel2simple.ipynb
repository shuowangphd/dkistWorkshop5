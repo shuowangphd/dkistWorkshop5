{
 "cells": [
  {
   "cell_type": "markdown",
   "metadata": {},
   "source": [
    "# Introduction to Inversions with HAZEL2 \n",
    "\n",
    "Shuo Wang\n",
    "\n",
    "Dept. of Astronomy, NMSU\n",
    "\n",
    "DKIST Ambassador\n",
    "\n",
    "[5th NCSP DKIST Data-Training Workshop: He I Diagnostics in the Solar Atmosphere](https://nso.edu/ncsp/ncsp-workshop/hei_diagnostics/)"
   ]
  },
  {
   "cell_type": "markdown",
   "metadata": {},
   "source": [
    "In the presentation yesterday, we saw a graph with two directed edges representing synthesis and inversion. Together they form a **loop**. Let's implement the loop by doing the following steps:\n",
    "\n",
    "1. Set a one-slab model. \n",
    "2. Do **synthesis** to generate the Stokes profiles.\n",
    "3. Add noise to the Stokes profiles to simulate observations.\n",
    "4. Do **inversion**.\n",
    "5. Compare inversion results with the model.\n",
    "\n",
    "The following code pieces together the code snippets explained in the previous presentations. Explanation of the code can be found in the [slides](http://astronomy.nmsu.edu/shuowang/dkistWorkshop5/)."
   ]
  },
  {
   "cell_type": "markdown",
   "metadata": {},
   "source": [
    "## Synthesis"
   ]
  },
  {
   "cell_type": "code",
   "execution_count": null,
   "metadata": {},
   "outputs": [],
   "source": [
    "import hazel\n",
    "import numpy as np\n",
    "import h5py\n",
    "import matplotlib.pyplot as plt"
   ]
  },
  {
   "cell_type": "markdown",
   "metadata": {},
   "source": [
    "Set up model. LOS: $\\theta, \\phi, \\gamma$."
   ]
  },
  {
   "cell_type": "code",
   "execution_count": null,
   "metadata": {},
   "outputs": [],
   "source": [
    "mod = hazel.Model(working_mode='synthesis')\n",
    "mod.add_spectral({'Name': 'spec1', 'Wavelength': [10828, 10831, 50], 'topology': 'ch1',\n",
    "    'LOS': [0,0,90], 'Boundary condition': [1,0,0,0]})\n",
    "mod.add_chromosphere({'Name': 'ch1', 'Spectral region': 'spec1', 'Height': 3, \n",
    "                          'Line': '10830', 'Wavelength': [10828, 10831]})\n",
    "mod.setup()"
   ]
  },
  {
   "cell_type": "markdown",
   "metadata": {},
   "source": [
    "Input: Bx, By, Bz, $\\tau$, v, $\\delta$v, $\\beta$, a, ff."
   ]
  },
  {
   "cell_type": "code",
   "execution_count": null,
   "metadata": {},
   "outputs": [],
   "source": [
    "mod.atmospheres['ch1'].set_parameters([-200, 50, 100, 1, -3, 6, 1, 0.5], 1)\n",
    "mod.synthesize()"
   ]
  },
  {
   "cell_type": "markdown",
   "metadata": {},
   "source": [
    "Plot spectral lines."
   ]
  },
  {
   "cell_type": "code",
   "execution_count": null,
   "metadata": {
    "scrolled": false
   },
   "outputs": [],
   "source": [
    "iq = 'IQUV'\n",
    "ms = mod.spectrum['spec1']\n",
    "plt.figure(figsize = (12,8))\n",
    "for i in range(4):\n",
    "    plt.subplot(221+i)\n",
    "    plt.plot(ms.wavelength_axis, ms.stokes[i])\n",
    "    plt.xlabel('Wavelength [$\\AA$]')\n",
    "    plt.ylabel(iq[i]+'/Ic')"
   ]
  },
  {
   "cell_type": "markdown",
   "metadata": {},
   "source": [
    "## Inversion"
   ]
  },
  {
   "cell_type": "markdown",
   "metadata": {},
   "source": [
    "### Prepare input files:"
   ]
  },
  {
   "cell_type": "markdown",
   "metadata": {},
   "source": [
    "**1. data file**"
   ]
  },
  {
   "cell_type": "code",
   "execution_count": null,
   "metadata": {},
   "outputs": [],
   "source": [
    "noise = 2e-4\n",
    "stokes = np.random.normal(loc=ms.stokes, scale=noise, size=ms.stokes.shape) # Add noise\n",
    "f = open('10830aStokes.1d', 'wb')\n",
    "f.write(b'# LOS theta_LOS, phi_LOS, gamma_LOS\\n')\n",
    "f.write(b'0 0 90\\n')\n",
    "f.write(b'\\n')\n",
    "f.write(b'# Boundary condition I/Ic(mu=1), Q/Ic(mu=1), U/Ic(mu=1), V/Ic(mu=1)\\n')\n",
    "f.write(b'1 0 0 0\\n')\n",
    "f.write(b'\\n')\n",
    "f.write(b'# SI SQ SU SV sigmaI sigmaQ sigmaU sigmaV\\n')\n",
    "tmp = np.vstack([stokes, noise*np.ones((4,len(ms.wavelength_axis)))])\n",
    "np.savetxt(f, tmp.T)\n",
    "f.close()\n",
    "%cat  -n 10830aStokes.1d"
   ]
  },
  {
   "cell_type": "markdown",
   "metadata": {},
   "source": [
    "**2. model file**"
   ]
  },
  {
   "cell_type": "code",
   "execution_count": null,
   "metadata": {},
   "outputs": [],
   "source": [
    "%cat -n model_chromosphere.1d"
   ]
  },
  {
   "cell_type": "markdown",
   "metadata": {},
   "source": [
    "**3. configuration file**"
   ]
  },
  {
   "cell_type": "code",
   "execution_count": null,
   "metadata": {
    "scrolled": true
   },
   "outputs": [],
   "source": [
    "%cat -n configSimple.ini"
   ]
  },
  {
   "cell_type": "markdown",
   "metadata": {},
   "source": [
    "### Invert"
   ]
  },
  {
   "cell_type": "code",
   "execution_count": null,
   "metadata": {
    "scrolled": true
   },
   "outputs": [],
   "source": [
    "modi = hazel.Model('configSimple.ini', working_mode='inversion',verbose=1)\n",
    "modi.read_observation()\n",
    "modi.open_output()\n",
    "modi.invert()\n",
    "modi.write_output()\n",
    "modi.close_output()"
   ]
  },
  {
   "cell_type": "markdown",
   "metadata": {},
   "source": [
    "### Read results."
   ]
  },
  {
   "cell_type": "code",
   "execution_count": null,
   "metadata": {
    "scrolled": false
   },
   "outputs": [],
   "source": [
    "res = h5py.File('output.h5', 'r')  # explicitly close when no longer in use.\n",
    "sto = ['Bx','By','Bz','tau','v','deltav','beta','a','ff']\n",
    "stp = ''\n",
    "for i in sto:\n",
    "    sti = res['ch1'][i][0,0,0]\n",
    "    stp += ', '+i+':'+f'{sti:.2f}'\n",
    "chi2 = res['spec1']['chi2'][0,0,0]\n",
    "print(stp[2:]+', chi2:'+f'{chi2:.2f}')"
   ]
  },
  {
   "cell_type": "markdown",
   "metadata": {},
   "source": [
    "Compare with input: \n",
    "\n",
    "[Bx, By, Bz, $\\tau$, v, $\\delta$v, $\\beta$, a], ff\n",
    "\n",
    "[-200, 50, 100, 1, -3, 6, 1, 0.5], 1)"
   ]
  },
  {
   "cell_type": "code",
   "execution_count": null,
   "metadata": {},
   "outputs": [],
   "source": [
    "plt.figure(figsize=(12,8))\n",
    "for i in range(4):\n",
    "    plt.subplot(221+i)\n",
    "    plt.plot(ms.wavelength_axis, ms.stokes[i],label='syn')\n",
    "    plt.plot(ms.wavelength_axis, stokes[i],'.',label='syn + noise')\n",
    "    plt.plot(ms.wavelength_axis, res['spec1']['stokes'][0,0,i],label='inv')\n",
    "    plt.legend()\n",
    "    plt.xlabel('Wavelength [$\\AA$]')\n",
    "    plt.ylabel(iq[i]+'/Ic')\n",
    "res.close() # close when no longer in use."
   ]
  }
 ],
 "metadata": {
  "kernelspec": {
   "display_name": "Python 3 (ipykernel)",
   "language": "python",
   "name": "python3"
  },
  "language_info": {
   "codemirror_mode": {
    "name": "ipython",
    "version": 3
   },
   "file_extension": ".py",
   "mimetype": "text/x-python",
   "name": "python",
   "nbconvert_exporter": "python",
   "pygments_lexer": "ipython3",
   "version": "3.9.7"
  }
 },
 "nbformat": 4,
 "nbformat_minor": 4
}
